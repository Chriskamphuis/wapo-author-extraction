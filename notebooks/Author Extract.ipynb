{
 "cells": [
  {
   "cell_type": "code",
   "execution_count": 1,
   "metadata": {},
   "outputs": [],
   "source": [
    "import json\n",
    "from tqdm import tqdm\n",
    "from collections import defaultdict\n",
    "import re"
   ]
  },
  {
   "cell_type": "code",
   "execution_count": 2,
   "metadata": {},
   "outputs": [],
   "source": [
    "collection_path = '/home/chris/workspace/ir/TREC/WashingtonPost.v2/data/TREC_Washington_Post_collection.v2.jl'\n",
    "authors = defaultdict(list)\n",
    "docs = defaultdict(list)"
   ]
  },
  {
   "cell_type": "code",
   "execution_count": 3,
   "metadata": {},
   "outputs": [],
   "source": [
    "topic_path = '/home/chris/workspace/ir/TREC/news-track/topics/newsir18-topics.txt'\n",
    "topics = []\n",
    "with open(topic_path, 'r') as f:\n",
    "    while len(topics) < 50:\n",
    "        line = \"\"\n",
    "        topic = {}\n",
    "        while line != \"<top>\":\n",
    "            line = f.readline().strip()\n",
    "        topic['number'] = re.search('\\d+', f.readline().strip()).group()\n",
    "        topic['docid'] = re.search('<docid>(.*)</docid>', f.readline().strip()).groups()[0]\n",
    "        topic['url'] = re.search('<url>(.*)<.*url>', f.readline().strip()).groups()[0]\n",
    "        topics.append(topic)"
   ]
  },
  {
   "cell_type": "code",
   "execution_count": 4,
   "metadata": {},
   "outputs": [],
   "source": [
    "def splitter(s, seps):\n",
    "    res = [s]\n",
    "    for sep in seps:\n",
    "        s, res = res, []\n",
    "        for seq in s:\n",
    "            res += seq.split(sep)\n",
    "    return res"
   ]
  },
  {
   "cell_type": "code",
   "execution_count": 5,
   "metadata": {},
   "outputs": [
    {
     "name": "stderr",
     "output_type": "stream",
     "text": [
      "595037it [01:35, 6200.82it/s] \n"
     ]
    }
   ],
   "source": [
    "# Takes ~1.50 min\n",
    "\n",
    "with open(collection_path, 'r') as f:\n",
    "    for i, line in enumerate(tqdm(f)):\n",
    "        jline = json.loads(line)\n",
    "        # Process field to form: [Firstname Lastname, ..]\n",
    "        names = splitter(jline['author'], [', ', '; ', ' and ', ' | ', 'and '])\n",
    "        for name in names:\n",
    "            n = name.strip()\n",
    "            n = n.replace(\"`\", \"'\")\n",
    "            n = n.replace(\"’\", \"'\")\n",
    "            n = n.replace(\"—\", \"\")\n",
    "            n = n.replace(\"Compiled\", \"\")\n",
    "            n = n.replace(\"compiled\", \"\")\n",
    "            n = n.replace(\"by\", \"\")\n",
    "            n = n.replace(\"and\", \"\")\n",
    "            n = n.replace(\"Rev. \", \"\")\n",
    "            n = n.strip()\n",
    "            end = n[-3:]\n",
    "            if end == 'Jr.' or end == 'Sr.':\n",
    "                n = n[:-3]\n",
    "            if n:\n",
    "                authors[n].append(jline['id'])\n",
    "                docs[jline['id']].append(n)"
   ]
  },
  {
   "cell_type": "code",
   "execution_count": 6,
   "metadata": {
    "scrolled": false
   },
   "outputs": [
    {
     "name": "stdout",
     "output_type": "stream",
     "text": [
      "321: Melissa Etehad (74) articles.\n",
      "321: Jeremy C.F. Lin (4) articles.\n",
      "\n",
      "336: Cleve R. Wootson  (2056) articles.\n",
      "\n",
      "341: Faiz Siddiqui (837) articles.\n",
      "\n",
      "347: Karin Brulliard (469) articles.\n",
      "\n",
      "350: Jill U. Adams (46) articles.\n",
      "\n",
      "362: Alex Horton (73) articles.\n",
      "\n",
      "363: Mary Pat Flaherty (167) articles.\n",
      "363: Paul Duggan (408) articles.\n",
      "\n",
      "367: Ishaan Tharoor (1851) articles.\n",
      "\n",
      "375: Drew Harwell (415) articles.\n",
      "\n",
      "378: Michael Birnbaum (725) articles.\n",
      "\n",
      "393: Lindsey Bever (2309) articles.\n",
      "\n",
      "397: Ashley Halsey III (1026) articles.\n",
      "\n",
      "400: Chris Mooney (1269) articles.\n",
      "\n",
      "408: Angela Fritz (1726) articles.\n",
      "\n",
      "414: Peter Wallsten (109) articles.\n",
      "414: Manuel Roig-Franzia (209) articles.\n",
      "414: Tom Hamburger (413) articles.\n",
      "\n",
      "422: Elahe Izadi (1765) articles.\n",
      "\n",
      "426: Christopher Ingraham (1935) articles.\n",
      "\n",
      "427: Angela Fritz (1726) articles.\n",
      "\n",
      "433: Philip Kennicott (426) articles.\n",
      "\n",
      "439: Erin Blakemore (69) articles.\n",
      "\n",
      "442: Max Fisher (1597) articles.\n",
      "\n",
      "445: Karla Adam (503) articles.\n",
      "\n",
      "626: Lindsey Bever (2309) articles.\n",
      "\n",
      "646: Niraj Chokshi (1241) articles.\n",
      "\n",
      "690: Joann Weiner (100) articles.\n",
      "\n",
      "801: Caelainn Hogan (35) articles.\n",
      "\n",
      "802: Adam Taylor (1829) articles.\n",
      "\n",
      "803: Emily Badger (601) articles.\n",
      "803: Christopher Ingraham (1935) articles.\n",
      "\n",
      "804: Fenit Nirappil (378) articles.\n",
      "\n",
      "805: Kevin Ambrose (257) articles.\n",
      "\n",
      "806: Lindsey Bever (2309) articles.\n",
      "\n",
      "807: Juan Forero (124) articles.\n",
      "\n",
      "808: Adam Goldman (280) articles.\n",
      "\n",
      "809: Sarah Kaplan (1484) articles.\n",
      "\n",
      "810: Roberto A. Ferdman (443) articles.\n",
      "\n",
      "811: Michael E. Miller (592) articles.\n",
      "\n",
      "812: Yanan Wang (436) articles.\n",
      "\n",
      "813: Christopher Ingraham (1935) articles.\n",
      "\n",
      "814: Simon Denyer (693) articles.\n",
      "\n",
      "815: Carol Morello (738) articles.\n",
      "\n",
      "816: Max Ehrenfreund (1757) articles.\n",
      "\n",
      "817: Ab Ohlheiser (1144) articles.\n",
      "\n",
      "818: Ariana Eunjung Cha (724) articles.\n",
      "\n",
      "819: Emily Badger (601) articles.\n",
      "\n",
      "820: Peter Holley (2390) articles.\n",
      "\n",
      "821: Brian Fung (2292) articles.\n",
      "\n",
      "822: Erik Wemple (4548) articles.\n",
      "\n",
      "823: Lena H. Sun (605) articles.\n",
      "\n",
      "824: Paul Farhi (706) articles.\n",
      "\n",
      "825: Steven Mufson (1082) articles.\n",
      "\n"
     ]
    }
   ],
   "source": [
    "for t in topics:\n",
    "    docid = t['docid']\n",
    "    auths = docs[docid]\n",
    "    for author in auths:\n",
    "        print(t['number'] + \": \" + author + ' (' + str(len(authors[author])) + ') articles.')\n",
    "    print('')"
   ]
  },
  {
   "cell_type": "code",
   "execution_count": null,
   "metadata": {
    "collapsed": true
   },
   "outputs": [],
   "source": []
  }
 ],
 "metadata": {
  "kernelspec": {
   "display_name": "Python 3",
   "language": "python",
   "name": "python3"
  },
  "language_info": {
   "codemirror_mode": {
    "name": "ipython",
    "version": 3
   },
   "file_extension": ".py",
   "mimetype": "text/x-python",
   "name": "python",
   "nbconvert_exporter": "python",
   "pygments_lexer": "ipython3",
   "version": "3.6.1"
  }
 },
 "nbformat": 4,
 "nbformat_minor": 2
}
